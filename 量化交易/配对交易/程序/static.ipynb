{
 "cells": [
  {
   "cell_type": "code",
   "execution_count": 1,
   "metadata": {
    "collapsed": true,
    "ExecuteTime": {
     "end_time": "2024-04-03T07:37:33.602249200Z",
     "start_time": "2024-04-03T07:37:31.577867400Z"
    }
   },
   "outputs": [],
   "source": [
    "import numpy as np\n",
    "import statsmodels.api as sm\n",
    "from scipy.stats import norm\n",
    "import matplotlib.pyplot as plt\n",
    "import pandas as pd\n",
    "from scipy.stats import f_oneway, ttest_ind\n",
    "from scipy.stats import skew, kurtosis\n",
    "from scipy.stats import wilcoxon"
   ]
  },
  {
   "cell_type": "code",
   "execution_count": null,
   "outputs": [],
   "source": [
    "#读文件\n",
    "# SHDataFrame = pd.read_excel('F:\\热爱学习\\jupyter\\量化交易\\配对交易\\结果\\SH.xlsx')\n",
    "# SZDataFrame=pd.read_excel('F:\\热爱学习\\jupyter\\量化交易\\配对交易\\结果\\SZ.xlsx')\n",
    "# SHData = pd.read_excel('F:\\热爱学习\\jupyter\\量化交易\\配对交易\\结果\\SH.xlsx').to_numpy()\n",
    "# SZData=pd.read_excel('F:\\热爱学习\\jupyter\\量化交易\\配对交易\\结果\\SZ.xlsx').to_numpy()\n",
    "# SHk0025tf16tt1PreSummary=pd.read_csv('F:\\热爱学习\\jupyter\\量化交易\\配对交易\\结果\\SHk0.025tf16tt1PreSummary.csv').to_numpy()\n",
    "# SHk0075tf11tt2PostSummary=pd.read_csv('F:\\热爱学习\\jupyter\\量化交易\\配对交易\\结果\\SHk0.075tf11tt2PostSummary.csv').to_numpy()\n",
    "# SZk115tf23tt4PreSummary=pd.read_csv('F:\\热爱学习\\jupyter\\量化交易\\配对交易\\结果\\SZk1.15tf23tt4PreSummary.csv').to_numpy()\n",
    "# SZk002tf11tt1PostSummary=pd.read_csv('F:\\热爱学习\\jupyter\\量化交易\\配对交易\\结果\\SZk0.02tf11tt1PostSummary.csv').to_numpy()\n",
    "# 假设我们有四组数据（每边两个）\n",
    "# SHxData=SHData[:,0]\n",
    "# SZxData=SZData[:,0]\n",
    "# SHPreYieldRate = SHData[:,3]*100\n",
    "# SHPostYieldRate = SHData[:,4]*100\n",
    "# SZPreYieldRate = SZData[:,3]*100\n",
    "# SHPreExcessYieldRate = SHk0025tf16tt1PreSummary[:,7]*100\n",
    "# SHPostExcessYieldRate = SHk0075tf11tt2PostSummary[:,7]*100\n",
    "# SZPreExcessYieldRate = SZk115tf23tt4PreSummary[:,7]*100\n",
    "# SZPostExcessYieldRate = SZk002tf11tt1PostSummary[:,7]*100"
   ],
   "metadata": {
    "collapsed": false
   }
  },
  {
   "cell_type": "code",
   "execution_count": null,
   "outputs": [],
   "source": [
    "#验证k的变化原因\n",
    "SHpreData = pd.read_csv(r'F:\\热爱学习\\jupyter\\量化交易\\配对交易\\结果\\fSHPreSummary.csv')\n",
    "SHpostData = pd.read_csv(r'F:\\热爱学习\\jupyter\\量化交易\\配对交易\\结果\\fSHPostSummary.csv')\n",
    "merged_df = pd.merge(SHpreData, SHpostData, on='AID', how='inner')\n",
    "merged_df = merged_df[(merged_df['PreMaxYiled'] >= 0) & (merged_df['PostMaxYiled'] >= 0)]\n",
    "merged_df"
   ],
   "metadata": {
    "collapsed": false
   }
  },
  {
   "cell_type": "code",
   "execution_count": null,
   "outputs": [],
   "source": [
    "\n",
    "merged_df['Difference'] = merged_df['PreMaxK'] - merged_df['PostMaxK']\n",
    "# 统计大于0的数量\n",
    "count_positive = (merged_df['Difference'] >0).sum()\n",
    "\n",
    "# 统计小于0的数量\n",
    "count_negative = (merged_df['Difference'] < 0).sum()\n",
    "\n",
    "# 打印结果\n",
    "print(f'大于0的数量: {count_positive}')\n",
    "print(f'小于0的数量: {count_negative}')\n",
    "print(merged_df['Difference'].mean())"
   ],
   "metadata": {
    "collapsed": false
   }
  },
  {
   "cell_type": "code",
   "execution_count": null,
   "outputs": [],
   "source": [
    "#转为表格\n",
    "Data = pd.read_excel('F:\\热爱学习\\jupyter\\量化交易\\配对交易\\结果\\OptimalTradingStrategy.xlsx').to_numpy()\n",
    "# 假设你有三个列向量 x、y、z\n",
    "x = Data[:,1]\n",
    "y = Data[:,0]\n",
    "z = Data[:,5]\n",
    "\n",
    "# 创建一个 DataFrame\n",
    "data = {'x': x, 'y': y, 'z': z}\n",
    "df = pd.DataFrame(data)\n",
    "df['x'] = df['x'].astype(int)\n",
    "df['y'] = df['y'].astype(int)\n",
    "df['z'] = df['z'].apply(lambda x: '{:.2%}'.format(x))\n",
    "# 将 DataFrame 转置（Transpose），使得 x、y 成为表的横轴和纵轴\n",
    "df_transposed = df.pivot(index='y', columns='x', values='z')\n",
    "\n",
    "# 打印结果\n",
    "df_transposed.to_csv('SZPostOptimalTradingStrategy.csv')"
   ],
   "metadata": {
    "collapsed": false
   }
  },
  {
   "cell_type": "code",
   "execution_count": 1,
   "outputs": [
    {
     "ename": "NameError",
     "evalue": "name 'pd' is not defined",
     "output_type": "error",
     "traceback": [
      "\u001B[1;31m---------------------------------------------------------------------------\u001B[0m",
      "\u001B[1;31mNameError\u001B[0m                                 Traceback (most recent call last)",
      "Input \u001B[1;32mIn [1]\u001B[0m, in \u001B[0;36m<cell line: 1>\u001B[1;34m()\u001B[0m\n\u001B[1;32m----> 1\u001B[0m Alldata\u001B[38;5;241m=\u001B[39m\u001B[43mpd\u001B[49m\u001B[38;5;241m.\u001B[39mread_excel(\u001B[38;5;124m'\u001B[39m\u001B[38;5;124mF:\u001B[39m\u001B[38;5;124m\\\u001B[39m\u001B[38;5;124m热爱学习\u001B[39m\u001B[38;5;124m\\\u001B[39m\u001B[38;5;124mjupyter\u001B[39m\u001B[38;5;124m\\\u001B[39m\u001B[38;5;124m量化交易\u001B[39m\u001B[38;5;124m\\\u001B[39m\u001B[38;5;124m配对交易\u001B[39m\u001B[38;5;124m\\\u001B[39m\u001B[38;5;124m结果\u001B[39m\u001B[38;5;124m\\\u001B[39m\u001B[38;5;124mOptimalTradingStrategyStatic.xlsx\u001B[39m\u001B[38;5;124m'\u001B[39m)\n\u001B[0;32m      2\u001B[0m data\u001B[38;5;241m=\u001B[39mAlldata[\u001B[38;5;124m'\u001B[39m\u001B[38;5;124mAvg\u001B[39m\u001B[38;5;124m'\u001B[39m]\u001B[38;5;241m.\u001B[39mto_numpy()\n\u001B[0;32m      3\u001B[0m \u001B[38;5;66;03m# SHData = pd.read_excel('F:\\热爱学习\\jupyter\\量化交易\\配对交易\\结果\\SH.xlsx').to_numpy()\u001B[39;00m\n\u001B[0;32m      4\u001B[0m \u001B[38;5;66;03m# SZData=pd.read_excel('F:\\热爱学习\\jupyter\\量化交易\\配对交易\\结果\\SZ.xlsx').to_numpy()\u001B[39;00m\n\u001B[0;32m      5\u001B[0m \u001B[38;5;66;03m# SHPreYieldRate = SHData[:,3]*100\u001B[39;00m\n\u001B[1;32m   (...)\u001B[0m\n\u001B[0;32m     18\u001B[0m \n\u001B[0;32m     19\u001B[0m \u001B[38;5;66;03m#描述性统计\u001B[39;00m\n",
      "\u001B[1;31mNameError\u001B[0m: name 'pd' is not defined"
     ]
    }
   ],
   "source": [
    "Alldata=pd.read_excel('F:\\热爱学习\\jupyter\\量化交易\\配对交易\\结果\\OptimalTradingStrategyStatic.xlsx').to_numpy()\n",
    "\n",
    "# SHData = pd.read_excel('F:\\热爱学习\\jupyter\\量化交易\\配对交易\\结果\\SH.xlsx').to_numpy()\n",
    "# SZData=pd.read_excel('F:\\热爱学习\\jupyter\\量化交易\\配对交易\\结果\\SZ.xlsx').to_numpy()\n",
    "# SHPreYieldRate = SHData[:,3]*100\n",
    "# SHPostYieldRate = SHData[:,4]*100\n",
    "# SZPreYieldRate = SZData[:,3]*100\n",
    "# SZPostYieldRate = SZData[:,4]*100\n",
    "#\n",
    "# SHPreData = pd.read_csv('F:\\热爱学习\\jupyter\\量化交易\\配对交易\\结果\\SHk0.025tf16tt1PreSummary.csv')\n",
    "# SHPostData = pd.read_csv('F:\\热爱学习\\jupyter\\量化交易\\配对交易\\结果\\SHk0.075tf11tt2PostSummary.csv')\n",
    "# SZPreData = pd.read_csv('F:\\热爱学习\\jupyter\\量化交易\\配对交易\\结果\\SZk1.15tf23tt4PreSummary.csv')\n",
    "# SZPostData=pd.read_csv('F:\\热爱学习\\jupyter\\量化交易\\配对交易\\结果\\SZk0.02tf11tt1PostSummary.csv')\n",
    "# SHPreYieldRate = SHPreData['annualExcessYieldRate(non-compounding)']*100\n",
    "# SHPostYieldRate = SHPostData['annualExcessYieldRate(non-compounding)']*100\n",
    "# SZPreYieldRate = SZPreData['annualExcessYieldRate(non-compounding)']*100\n",
    "# SZPostYieldRate = SZPostData['annualExcessYieldRate(non-compounding)']*100\n",
    "\n",
    "#描述性统计\n",
    "def calculate_statistics(data):\n",
    "    # 计算均值\n",
    "    mean_value = np.mean(data)\n",
    "    # 计算标准差\n",
    "    std_dev = np.std(data)\n",
    "    # 计算偏度\n",
    "    skewness = skew(data)\n",
    "    # 计算峰度\n",
    "    kurt = kurtosis(data)\n",
    "    # 计算最小值\n",
    "    min_value = np.min(data)\n",
    "    # 计算最大值\n",
    "    max_value = np.max(data)\n",
    "    # 计算中位数\n",
    "    median_value = np.median(data)\n",
    "    # 计算小于0的观测值占比\n",
    "    negative_percentage = np.sum(np.array(data) < 0) / len(data) * 100\n",
    "    return {\n",
    "        '均值': mean_value,\n",
    "        '标准差': std_dev,\n",
    "        '偏度': skewness,\n",
    "        '峰度': kurt,\n",
    "        '最小值': min_value,\n",
    "        '最大值': max_value,\n",
    "        '中位数': median_value,\n",
    "        '小于0的观测值占比': negative_percentage\n",
    "    }\n",
    "for column in Alldata.T:\n",
    "    print(calculate_statistics(column))\n",
    "\n",
    "# print(calculate_statistics(SHPreYieldRate))\n",
    "# print(calculate_statistics(SHPostYieldRate))\n",
    "# print(calculate_statistics(SZPreYieldRate))\n",
    "# print(calculate_statistics(SZPostYieldRate))\n",
    "\n",
    "# print(calculate_statistics(SHPreYieldRate))\n",
    "# print(calculate_statistics(SHPostYieldRate))\n",
    "# print(calculate_statistics(SZPreYieldRate))\n",
    "# print(calculate_statistics(SZPostYieldRate))"
   ],
   "metadata": {
    "collapsed": false,
    "ExecuteTime": {
     "end_time": "2024-12-03T08:35:27.889528700Z",
     "start_time": "2024-12-03T08:35:27.334967900Z"
    }
   }
  },
  {
   "cell_type": "code",
   "execution_count": 61,
   "outputs": [
    {
     "name": "stdout",
     "output_type": "stream",
     "text": [
      "T-statistic: 1.4851624275422912\n",
      "P-value: 0.13750080228143438\n",
      "在显著性水平为 0.01 下，无法拒绝零假设，无足够证据表明样本均值显著大于0。\n"
     ]
    }
   ],
   "source": [
    "#单样本Newey-West t检验\n",
    "data = SZPostExcessYieldRate.astype(float)\n",
    "\n",
    "# 计算 Newey-West 标准误差\n",
    "lags = 8  # 设置滞后阶数\n",
    "cov_type = 'HAC'  # 设置协方差估计类型为 HAC (Heteroskedasticity and Autocorrelation Consistent)\n",
    "model = sm.OLS(data, sm.add_constant(np.ones_like(data)))\n",
    "results = model.fit(cov_type=cov_type, cov_kwds={'maxlags': lags})\n",
    "\n",
    "# 提取 t 统计量和 p 值\n",
    "t_stat = results.tvalues[0]\n",
    "p_value = results.pvalues[0]\n",
    "\n",
    "# 打印结果\n",
    "print(f'T-statistic: {t_stat}')\n",
    "print(f'P-value: {p_value}')\n",
    "\n",
    "# 判断是否显著大于0\n",
    "alpha = 0.01\n",
    "if p_value < alpha:\n",
    "    print(\"在显著性水平为 {} 下，拒绝零假设，表明样本均值显著大于0。\".format(alpha))\n",
    "else:\n",
    "    print(\"在显著性水平为 {} 下，无法拒绝零假设，无足够证据表明样本均值显著大于0。\".format(alpha))\n"
   ],
   "metadata": {
    "collapsed": false,
    "ExecuteTime": {
     "end_time": "2024-03-02T10:36:37.358815900Z",
     "start_time": "2024-03-02T10:36:37.343163900Z"
    }
   }
  },
  {
   "cell_type": "code",
   "execution_count": 71,
   "outputs": [
    {
     "ename": "ValueError",
     "evalue": "endog and exog matrices are different sizes",
     "output_type": "error",
     "traceback": [
      "\u001B[1;31m---------------------------------------------------------------------------\u001B[0m",
      "\u001B[1;31mValueError\u001B[0m                                Traceback (most recent call last)",
      "Input \u001B[1;32mIn [71]\u001B[0m, in \u001B[0;36m<cell line: 8>\u001B[1;34m()\u001B[0m\n\u001B[0;32m      6\u001B[0m lags \u001B[38;5;241m=\u001B[39m \u001B[38;5;241m8\u001B[39m  \u001B[38;5;66;03m# 设置滞后阶数\u001B[39;00m\n\u001B[0;32m      7\u001B[0m cov_type \u001B[38;5;241m=\u001B[39m \u001B[38;5;124m'\u001B[39m\u001B[38;5;124mHAC\u001B[39m\u001B[38;5;124m'\u001B[39m  \u001B[38;5;66;03m# 设置协方差估计类型为 HAC (Heteroskedasticity and Autocorrelation Consistent)\u001B[39;00m\n\u001B[1;32m----> 8\u001B[0m model \u001B[38;5;241m=\u001B[39m \u001B[43msm\u001B[49m\u001B[38;5;241;43m.\u001B[39;49m\u001B[43mOLS\u001B[49m\u001B[43m(\u001B[49m\u001B[43mdata1\u001B[49m\u001B[43m,\u001B[49m\u001B[43m \u001B[49m\u001B[43msm\u001B[49m\u001B[38;5;241;43m.\u001B[39;49m\u001B[43madd_constant\u001B[49m\u001B[43m(\u001B[49m\u001B[43mdata2\u001B[49m\u001B[43m)\u001B[49m\u001B[43m)\u001B[49m\n\u001B[0;32m      9\u001B[0m results \u001B[38;5;241m=\u001B[39m model\u001B[38;5;241m.\u001B[39mfit(cov_type\u001B[38;5;241m=\u001B[39mcov_type, cov_kwds\u001B[38;5;241m=\u001B[39m{\u001B[38;5;124m'\u001B[39m\u001B[38;5;124mmaxlags\u001B[39m\u001B[38;5;124m'\u001B[39m: lags})\n\u001B[0;32m     11\u001B[0m \u001B[38;5;66;03m# 提取 t 统计量和 p 值\u001B[39;00m\n",
      "File \u001B[1;32md:\\py\\lib\\site-packages\\statsmodels\\regression\\linear_model.py:923\u001B[0m, in \u001B[0;36mOLS.__init__\u001B[1;34m(self, endog, exog, missing, hasconst, **kwargs)\u001B[0m\n\u001B[0;32m    920\u001B[0m     msg \u001B[38;5;241m=\u001B[39m (\u001B[38;5;124m\"\u001B[39m\u001B[38;5;124mWeights are not supported in OLS and will be ignored\u001B[39m\u001B[38;5;124m\"\u001B[39m\n\u001B[0;32m    921\u001B[0m            \u001B[38;5;124m\"\u001B[39m\u001B[38;5;124mAn exception will be raised in the next version.\u001B[39m\u001B[38;5;124m\"\u001B[39m)\n\u001B[0;32m    922\u001B[0m     warnings\u001B[38;5;241m.\u001B[39mwarn(msg, ValueWarning)\n\u001B[1;32m--> 923\u001B[0m \u001B[38;5;28msuper\u001B[39m(OLS, \u001B[38;5;28mself\u001B[39m)\u001B[38;5;241m.\u001B[39m\u001B[38;5;21m__init__\u001B[39m(endog, exog, missing\u001B[38;5;241m=\u001B[39mmissing,\n\u001B[0;32m    924\u001B[0m                           hasconst\u001B[38;5;241m=\u001B[39mhasconst, \u001B[38;5;241m*\u001B[39m\u001B[38;5;241m*\u001B[39mkwargs)\n\u001B[0;32m    925\u001B[0m \u001B[38;5;28;01mif\u001B[39;00m \u001B[38;5;124m\"\u001B[39m\u001B[38;5;124mweights\u001B[39m\u001B[38;5;124m\"\u001B[39m \u001B[38;5;129;01min\u001B[39;00m \u001B[38;5;28mself\u001B[39m\u001B[38;5;241m.\u001B[39m_init_keys:\n\u001B[0;32m    926\u001B[0m     \u001B[38;5;28mself\u001B[39m\u001B[38;5;241m.\u001B[39m_init_keys\u001B[38;5;241m.\u001B[39mremove(\u001B[38;5;124m\"\u001B[39m\u001B[38;5;124mweights\u001B[39m\u001B[38;5;124m\"\u001B[39m)\n",
      "File \u001B[1;32md:\\py\\lib\\site-packages\\statsmodels\\regression\\linear_model.py:748\u001B[0m, in \u001B[0;36mWLS.__init__\u001B[1;34m(self, endog, exog, weights, missing, hasconst, **kwargs)\u001B[0m\n\u001B[0;32m    746\u001B[0m \u001B[38;5;28;01melse\u001B[39;00m:\n\u001B[0;32m    747\u001B[0m     weights \u001B[38;5;241m=\u001B[39m weights\u001B[38;5;241m.\u001B[39msqueeze()\n\u001B[1;32m--> 748\u001B[0m \u001B[38;5;28msuper\u001B[39m(WLS, \u001B[38;5;28mself\u001B[39m)\u001B[38;5;241m.\u001B[39m\u001B[38;5;21m__init__\u001B[39m(endog, exog, missing\u001B[38;5;241m=\u001B[39mmissing,\n\u001B[0;32m    749\u001B[0m                           weights\u001B[38;5;241m=\u001B[39mweights, hasconst\u001B[38;5;241m=\u001B[39mhasconst, \u001B[38;5;241m*\u001B[39m\u001B[38;5;241m*\u001B[39mkwargs)\n\u001B[0;32m    750\u001B[0m nobs \u001B[38;5;241m=\u001B[39m \u001B[38;5;28mself\u001B[39m\u001B[38;5;241m.\u001B[39mexog\u001B[38;5;241m.\u001B[39mshape[\u001B[38;5;241m0\u001B[39m]\n\u001B[0;32m    751\u001B[0m weights \u001B[38;5;241m=\u001B[39m \u001B[38;5;28mself\u001B[39m\u001B[38;5;241m.\u001B[39mweights\n",
      "File \u001B[1;32md:\\py\\lib\\site-packages\\statsmodels\\regression\\linear_model.py:202\u001B[0m, in \u001B[0;36mRegressionModel.__init__\u001B[1;34m(self, endog, exog, **kwargs)\u001B[0m\n\u001B[0;32m    201\u001B[0m \u001B[38;5;28;01mdef\u001B[39;00m \u001B[38;5;21m__init__\u001B[39m(\u001B[38;5;28mself\u001B[39m, endog, exog, \u001B[38;5;241m*\u001B[39m\u001B[38;5;241m*\u001B[39mkwargs):\n\u001B[1;32m--> 202\u001B[0m     \u001B[38;5;28msuper\u001B[39m(RegressionModel, \u001B[38;5;28mself\u001B[39m)\u001B[38;5;241m.\u001B[39m\u001B[38;5;21m__init__\u001B[39m(endog, exog, \u001B[38;5;241m*\u001B[39m\u001B[38;5;241m*\u001B[39mkwargs)\n\u001B[0;32m    203\u001B[0m     \u001B[38;5;28mself\u001B[39m\u001B[38;5;241m.\u001B[39mpinv_wexog: Float64Array \u001B[38;5;241m|\u001B[39m \u001B[38;5;28;01mNone\u001B[39;00m \u001B[38;5;241m=\u001B[39m \u001B[38;5;28;01mNone\u001B[39;00m\n\u001B[0;32m    204\u001B[0m     \u001B[38;5;28mself\u001B[39m\u001B[38;5;241m.\u001B[39m_data_attr\u001B[38;5;241m.\u001B[39mextend([\u001B[38;5;124m'\u001B[39m\u001B[38;5;124mpinv_wexog\u001B[39m\u001B[38;5;124m'\u001B[39m, \u001B[38;5;124m'\u001B[39m\u001B[38;5;124mwendog\u001B[39m\u001B[38;5;124m'\u001B[39m, \u001B[38;5;124m'\u001B[39m\u001B[38;5;124mwexog\u001B[39m\u001B[38;5;124m'\u001B[39m, \u001B[38;5;124m'\u001B[39m\u001B[38;5;124mweights\u001B[39m\u001B[38;5;124m'\u001B[39m])\n",
      "File \u001B[1;32md:\\py\\lib\\site-packages\\statsmodels\\base\\model.py:270\u001B[0m, in \u001B[0;36mLikelihoodModel.__init__\u001B[1;34m(self, endog, exog, **kwargs)\u001B[0m\n\u001B[0;32m    269\u001B[0m \u001B[38;5;28;01mdef\u001B[39;00m \u001B[38;5;21m__init__\u001B[39m(\u001B[38;5;28mself\u001B[39m, endog, exog\u001B[38;5;241m=\u001B[39m\u001B[38;5;28;01mNone\u001B[39;00m, \u001B[38;5;241m*\u001B[39m\u001B[38;5;241m*\u001B[39mkwargs):\n\u001B[1;32m--> 270\u001B[0m     \u001B[38;5;28msuper\u001B[39m()\u001B[38;5;241m.\u001B[39m\u001B[38;5;21m__init__\u001B[39m(endog, exog, \u001B[38;5;241m*\u001B[39m\u001B[38;5;241m*\u001B[39mkwargs)\n\u001B[0;32m    271\u001B[0m     \u001B[38;5;28mself\u001B[39m\u001B[38;5;241m.\u001B[39minitialize()\n",
      "File \u001B[1;32md:\\py\\lib\\site-packages\\statsmodels\\base\\model.py:95\u001B[0m, in \u001B[0;36mModel.__init__\u001B[1;34m(self, endog, exog, **kwargs)\u001B[0m\n\u001B[0;32m     93\u001B[0m missing \u001B[38;5;241m=\u001B[39m kwargs\u001B[38;5;241m.\u001B[39mpop(\u001B[38;5;124m'\u001B[39m\u001B[38;5;124mmissing\u001B[39m\u001B[38;5;124m'\u001B[39m, \u001B[38;5;124m'\u001B[39m\u001B[38;5;124mnone\u001B[39m\u001B[38;5;124m'\u001B[39m)\n\u001B[0;32m     94\u001B[0m hasconst \u001B[38;5;241m=\u001B[39m kwargs\u001B[38;5;241m.\u001B[39mpop(\u001B[38;5;124m'\u001B[39m\u001B[38;5;124mhasconst\u001B[39m\u001B[38;5;124m'\u001B[39m, \u001B[38;5;28;01mNone\u001B[39;00m)\n\u001B[1;32m---> 95\u001B[0m \u001B[38;5;28mself\u001B[39m\u001B[38;5;241m.\u001B[39mdata \u001B[38;5;241m=\u001B[39m \u001B[38;5;28mself\u001B[39m\u001B[38;5;241m.\u001B[39m_handle_data(endog, exog, missing, hasconst,\n\u001B[0;32m     96\u001B[0m                               \u001B[38;5;241m*\u001B[39m\u001B[38;5;241m*\u001B[39mkwargs)\n\u001B[0;32m     97\u001B[0m \u001B[38;5;28mself\u001B[39m\u001B[38;5;241m.\u001B[39mk_constant \u001B[38;5;241m=\u001B[39m \u001B[38;5;28mself\u001B[39m\u001B[38;5;241m.\u001B[39mdata\u001B[38;5;241m.\u001B[39mk_constant\n\u001B[0;32m     98\u001B[0m \u001B[38;5;28mself\u001B[39m\u001B[38;5;241m.\u001B[39mexog \u001B[38;5;241m=\u001B[39m \u001B[38;5;28mself\u001B[39m\u001B[38;5;241m.\u001B[39mdata\u001B[38;5;241m.\u001B[39mexog\n",
      "File \u001B[1;32md:\\py\\lib\\site-packages\\statsmodels\\base\\model.py:135\u001B[0m, in \u001B[0;36mModel._handle_data\u001B[1;34m(self, endog, exog, missing, hasconst, **kwargs)\u001B[0m\n\u001B[0;32m    134\u001B[0m \u001B[38;5;28;01mdef\u001B[39;00m \u001B[38;5;21m_handle_data\u001B[39m(\u001B[38;5;28mself\u001B[39m, endog, exog, missing, hasconst, \u001B[38;5;241m*\u001B[39m\u001B[38;5;241m*\u001B[39mkwargs):\n\u001B[1;32m--> 135\u001B[0m     data \u001B[38;5;241m=\u001B[39m handle_data(endog, exog, missing, hasconst, \u001B[38;5;241m*\u001B[39m\u001B[38;5;241m*\u001B[39mkwargs)\n\u001B[0;32m    136\u001B[0m     \u001B[38;5;66;03m# kwargs arrays could have changed, easier to just attach here\u001B[39;00m\n\u001B[0;32m    137\u001B[0m     \u001B[38;5;28;01mfor\u001B[39;00m key \u001B[38;5;129;01min\u001B[39;00m kwargs:\n",
      "File \u001B[1;32md:\\py\\lib\\site-packages\\statsmodels\\base\\data.py:675\u001B[0m, in \u001B[0;36mhandle_data\u001B[1;34m(endog, exog, missing, hasconst, **kwargs)\u001B[0m\n\u001B[0;32m    672\u001B[0m     exog \u001B[38;5;241m=\u001B[39m np\u001B[38;5;241m.\u001B[39masarray(exog)\n\u001B[0;32m    674\u001B[0m klass \u001B[38;5;241m=\u001B[39m handle_data_class_factory(endog, exog)\n\u001B[1;32m--> 675\u001B[0m \u001B[38;5;28;01mreturn\u001B[39;00m klass(endog, exog\u001B[38;5;241m=\u001B[39mexog, missing\u001B[38;5;241m=\u001B[39mmissing, hasconst\u001B[38;5;241m=\u001B[39mhasconst,\n\u001B[0;32m    676\u001B[0m              \u001B[38;5;241m*\u001B[39m\u001B[38;5;241m*\u001B[39mkwargs)\n",
      "File \u001B[1;32md:\\py\\lib\\site-packages\\statsmodels\\base\\data.py:89\u001B[0m, in \u001B[0;36mModelData.__init__\u001B[1;34m(self, endog, exog, missing, hasconst, **kwargs)\u001B[0m\n\u001B[0;32m     87\u001B[0m \u001B[38;5;28mself\u001B[39m\u001B[38;5;241m.\u001B[39mk_constant \u001B[38;5;241m=\u001B[39m \u001B[38;5;241m0\u001B[39m\n\u001B[0;32m     88\u001B[0m \u001B[38;5;28mself\u001B[39m\u001B[38;5;241m.\u001B[39m_handle_constant(hasconst)\n\u001B[1;32m---> 89\u001B[0m \u001B[38;5;28;43mself\u001B[39;49m\u001B[38;5;241;43m.\u001B[39;49m\u001B[43m_check_integrity\u001B[49m\u001B[43m(\u001B[49m\u001B[43m)\u001B[49m\n\u001B[0;32m     90\u001B[0m \u001B[38;5;28mself\u001B[39m\u001B[38;5;241m.\u001B[39m_cache \u001B[38;5;241m=\u001B[39m {}\n",
      "File \u001B[1;32md:\\py\\lib\\site-packages\\statsmodels\\base\\data.py:436\u001B[0m, in \u001B[0;36mModelData._check_integrity\u001B[1;34m(self)\u001B[0m\n\u001B[0;32m    434\u001B[0m \u001B[38;5;28;01mif\u001B[39;00m \u001B[38;5;28mself\u001B[39m\u001B[38;5;241m.\u001B[39mexog \u001B[38;5;129;01mis\u001B[39;00m \u001B[38;5;129;01mnot\u001B[39;00m \u001B[38;5;28;01mNone\u001B[39;00m:\n\u001B[0;32m    435\u001B[0m     \u001B[38;5;28;01mif\u001B[39;00m \u001B[38;5;28mlen\u001B[39m(\u001B[38;5;28mself\u001B[39m\u001B[38;5;241m.\u001B[39mexog) \u001B[38;5;241m!=\u001B[39m \u001B[38;5;28mlen\u001B[39m(\u001B[38;5;28mself\u001B[39m\u001B[38;5;241m.\u001B[39mendog):\n\u001B[1;32m--> 436\u001B[0m         \u001B[38;5;28;01mraise\u001B[39;00m \u001B[38;5;167;01mValueError\u001B[39;00m(\u001B[38;5;124m\"\u001B[39m\u001B[38;5;124mendog and exog matrices are different sizes\u001B[39m\u001B[38;5;124m\"\u001B[39m)\n",
      "\u001B[1;31mValueError\u001B[0m: endog and exog matrices are different sizes"
     ]
    }
   ],
   "source": [
    "#双样本Newey-West t检验\n",
    "# 生成一些示例数据\n",
    "data1 = SHPreExcessYieldRate.astype(float)\n",
    "data2 = SHPostExcessYieldRate.astype(float)\n",
    "# 计算 Newey-West 标准误差\n",
    "lags = 8  # 设置滞后阶数\n",
    "cov_type = 'HAC'  # 设置协方差估计类型为 HAC (Heteroskedasticity and Autocorrelation Consistent)\n",
    "model = sm.OLS(data1, sm.add_constant(data2))\n",
    "results = model.fit(cov_type=cov_type, cov_kwds={'maxlags': lags})\n",
    "\n",
    "# 提取 t 统计量和 p 值\n",
    "t_stat = results.tvalues[0]\n",
    "p_value = results.pvalues[0]\n",
    "\n",
    "# 打印结果\n",
    "print(f'T-statistic: {t_stat}')\n",
    "print(f'P-value: {p_value}')\n",
    "\n",
    "# 判断是否显著大于0\n",
    "alpha = 0.01\n",
    "if p_value < alpha:\n",
    "    print(\"在显著性水平为 {} 下，拒绝零假设，表明两样本均值具有显著差异。\".format(alpha))\n",
    "else:\n",
    "    print(\"在显著性水平为 {} 下，无法拒绝零假设，无足够证据表明两样本均值具有显著差异。\".format(alpha))\n"
   ],
   "metadata": {
    "collapsed": false,
    "ExecuteTime": {
     "end_time": "2024-03-02T10:58:10.193348700Z",
     "start_time": "2024-03-02T10:58:10.099554500Z"
    }
   }
  },
  {
   "cell_type": "code",
   "execution_count": 81,
   "outputs": [
    {
     "name": "stdout",
     "output_type": "stream",
     "text": [
      "t-statistic: 0.4927142881666256\n",
      "p-value: 0.6261425799919196\n",
      "无法拒绝零假设，样本之间不存在显著差异\n"
     ]
    }
   ],
   "source": [
    "#双样本T检验\n",
    "# 生成两个样本数据\n",
    "def FAndTTest(n1, n2):\n",
    "    # 首先进行F检验（方差齐性检验）\n",
    "    f_statistic, Fp_value = f_oneway(n1, n2)\n",
    "    # 如果P值小于显著性水平（例如0.05），则拒绝原假设，认为两总体方差不相等\n",
    "    if Fp_value < 0.05:\n",
    "        t_statistic, Tp_value = ttest_ind(n1, n2, equal_var=True)  # 如果方差不等，应设置equal_var=False\n",
    "        # print('方差无差异')\n",
    "        # # 对于T检验，如果P值小于显著性水平（例如0.05），则拒绝原假设，认为两总体均值无显著差异\n",
    "        # if Tp_value < 0.05:\n",
    "        #     print(\"两样本有差异,P值为：\",Tp_value)\n",
    "        # else:\n",
    "        #     print(\"两样本无差异,P值为：\",Tp_value)\n",
    "        # print('*'*100)\n",
    "        return [t_statistic, Tp_value]\n",
    "    else:\n",
    "        t_statistic, Tp_value = ttest_ind(n1, n2, equal_var=False)  # 如果方差不等，应设置equal_var=False\n",
    "        # print('方差有差异')\n",
    "        # # 对于T检验，如果P值小于显著性水平（例如0.05），则拒绝原假设，认为两总体均值无显著差异\n",
    "        # if Tp_value < 0.05:\n",
    "        #     print(\"两样本有差异,P值为：\",Tp_value)\n",
    "        # else:\n",
    "        #     print(\"两样本无差异,P值为：\",Tp_value)\n",
    "        # print('*'*100)\n",
    "        return [t_statistic, Tp_value]\n",
    "\n",
    "sample1 = SZPreExcessYieldRate.astype(float)\n",
    "sample2 = SZPostExcessYieldRate.astype(float)\n",
    "\n",
    "# 进行两样本t检验\n",
    "result=FAndTTest(sample1,sample2)\n",
    "\n",
    "# 输出结果\n",
    "print(f\"t-statistic: {result[0]}\")\n",
    "print(f\"p-value: {result[1]}\")\n",
    "\n",
    "# 判断显著性水平\n",
    "alpha = 0.01\n",
    "if p_value < alpha:\n",
    "    print(\"拒绝零假设，样本之间存在显著差异\")\n",
    "else:\n",
    "    print(\"无法拒绝零假设，样本之间不存在显著差异\")\n"
   ],
   "metadata": {
    "collapsed": false,
    "ExecuteTime": {
     "end_time": "2024-03-02T11:35:49.057724300Z",
     "start_time": "2024-03-02T11:35:48.995171Z"
    }
   }
  },
  {
   "cell_type": "code",
   "execution_count": 67,
   "outputs": [
    {
     "ename": "ValueError",
     "evalue": "The samples x and y must have the same length.",
     "output_type": "error",
     "traceback": [
      "\u001B[1;31m---------------------------------------------------------------------------\u001B[0m",
      "\u001B[1;31mValueError\u001B[0m                                Traceback (most recent call last)",
      "Input \u001B[1;32mIn [67]\u001B[0m, in \u001B[0;36m<cell line: 6>\u001B[1;34m()\u001B[0m\n\u001B[0;32m      3\u001B[0m sample2 \u001B[38;5;241m=\u001B[39m SHPostExcessYieldRate\u001B[38;5;241m.\u001B[39mastype(\u001B[38;5;28mfloat\u001B[39m)\n\u001B[0;32m      5\u001B[0m \u001B[38;5;66;03m# 执行Wilcoxon秩和检验\u001B[39;00m\n\u001B[1;32m----> 6\u001B[0m statistic, p_value \u001B[38;5;241m=\u001B[39m \u001B[43mwilcoxon\u001B[49m\u001B[43m(\u001B[49m\u001B[43msample1\u001B[49m\u001B[43m,\u001B[49m\u001B[43m \u001B[49m\u001B[43msample2\u001B[49m\u001B[43m)\u001B[49m\n\u001B[0;32m      8\u001B[0m \u001B[38;5;66;03m# 输出检验结果\u001B[39;00m\n\u001B[0;32m      9\u001B[0m \u001B[38;5;28mprint\u001B[39m(\u001B[38;5;124mf\u001B[39m\u001B[38;5;124m\"\u001B[39m\u001B[38;5;124mWilcoxon Statistic: \u001B[39m\u001B[38;5;132;01m{\u001B[39;00mstatistic\u001B[38;5;132;01m}\u001B[39;00m\u001B[38;5;124m\"\u001B[39m)\n",
      "File \u001B[1;32md:\\py\\lib\\site-packages\\scipy\\_lib\\_util.py:713\u001B[0m, in \u001B[0;36m_rename_parameter.<locals>.decorator.<locals>.wrapper\u001B[1;34m(*args, **kwargs)\u001B[0m\n\u001B[0;32m    711\u001B[0m         \u001B[38;5;28;01mraise\u001B[39;00m \u001B[38;5;167;01mTypeError\u001B[39;00m(message)\n\u001B[0;32m    712\u001B[0m     kwargs[new_name] \u001B[38;5;241m=\u001B[39m kwargs\u001B[38;5;241m.\u001B[39mpop(old_name)\n\u001B[1;32m--> 713\u001B[0m \u001B[38;5;28;01mreturn\u001B[39;00m fun(\u001B[38;5;241m*\u001B[39margs, \u001B[38;5;241m*\u001B[39m\u001B[38;5;241m*\u001B[39mkwargs)\n",
      "File \u001B[1;32md:\\py\\lib\\site-packages\\scipy\\stats\\_axis_nan_policy.py:523\u001B[0m, in \u001B[0;36m_axis_nan_policy_factory.<locals>.axis_nan_policy_decorator.<locals>.axis_nan_policy_wrapper\u001B[1;34m(***failed resolving arguments***)\u001B[0m\n\u001B[0;32m    521\u001B[0m \u001B[38;5;28;01mif\u001B[39;00m sentinel:\n\u001B[0;32m    522\u001B[0m     samples \u001B[38;5;241m=\u001B[39m _remove_sentinel(samples, paired, sentinel)\n\u001B[1;32m--> 523\u001B[0m res \u001B[38;5;241m=\u001B[39m hypotest_fun_out(\u001B[38;5;241m*\u001B[39msamples, \u001B[38;5;241m*\u001B[39m\u001B[38;5;241m*\u001B[39mkwds)\n\u001B[0;32m    524\u001B[0m res \u001B[38;5;241m=\u001B[39m result_to_tuple(res)\n\u001B[0;32m    525\u001B[0m res \u001B[38;5;241m=\u001B[39m _add_reduced_axes(res, reduced_axes, keepdims)\n",
      "File \u001B[1;32md:\\py\\lib\\site-packages\\scipy\\stats\\_morestats.py:4067\u001B[0m, in \u001B[0;36mwilcoxon\u001B[1;34m(x, y, zero_method, correction, alternative, method)\u001B[0m\n\u001B[0;32m   4065\u001B[0m     \u001B[38;5;28;01mraise\u001B[39;00m \u001B[38;5;167;01mValueError\u001B[39;00m(\u001B[38;5;124m'\u001B[39m\u001B[38;5;124mSamples x and y must be one-dimensional.\u001B[39m\u001B[38;5;124m'\u001B[39m)\n\u001B[0;32m   4066\u001B[0m \u001B[38;5;28;01mif\u001B[39;00m \u001B[38;5;28mlen\u001B[39m(x) \u001B[38;5;241m!=\u001B[39m \u001B[38;5;28mlen\u001B[39m(y):\n\u001B[1;32m-> 4067\u001B[0m     \u001B[38;5;28;01mraise\u001B[39;00m \u001B[38;5;167;01mValueError\u001B[39;00m(\u001B[38;5;124m'\u001B[39m\u001B[38;5;124mThe samples x and y must have the same length.\u001B[39m\u001B[38;5;124m'\u001B[39m)\n\u001B[0;32m   4068\u001B[0m \u001B[38;5;66;03m# Future enhancement: consider warning when elements of `d` appear to\u001B[39;00m\n\u001B[0;32m   4069\u001B[0m \u001B[38;5;66;03m# be tied but are numerically distinct.\u001B[39;00m\n\u001B[0;32m   4070\u001B[0m d \u001B[38;5;241m=\u001B[39m x \u001B[38;5;241m-\u001B[39m y\n",
      "\u001B[1;31mValueError\u001B[0m: The samples x and y must have the same length."
     ]
    }
   ],
   "source": [
    "# 示例数据\n",
    "sample1 = SHPreExcessYieldRate.astype(float)\n",
    "sample2 = SHPostExcessYieldRate.astype(float)\n",
    "\n",
    "# 执行Wilcoxon秩和检验\n",
    "statistic, p_value = wilcoxon(sample1, sample2)\n",
    "\n",
    "# 输出检验结果\n",
    "print(f\"Wilcoxon Statistic: {statistic}\")\n",
    "print(f\"P-value: {p_value}\")\n",
    "\n",
    "# 根据p-value判断显著性\n",
    "alpha = 0.05\n",
    "if p_value < alpha:\n",
    "    print(\"拒绝原假设，两样本有显著差异\")\n",
    "else:\n",
    "    print(\"接受原假设，两样本没有显著差异\")"
   ],
   "metadata": {
    "collapsed": false,
    "ExecuteTime": {
     "end_time": "2024-03-02T10:45:57.625614200Z",
     "start_time": "2024-03-02T10:45:57.500576900Z"
    }
   }
  },
  {
   "cell_type": "code",
   "execution_count": 79,
   "outputs": [
    {
     "name": "stdout",
     "output_type": "stream",
     "text": [
      "观察到的均值差异: 3.3260104523241516\n",
      "p值: 0.6321\n"
     ]
    }
   ],
   "source": [
    "#Bootstrap检验\n",
    "# 原始样本数据\n",
    "sample1 = SZPreExcessYieldRate.astype(float)\n",
    "sample2 = SZPostExcessYieldRate.astype(float)\n",
    "\n",
    "# 定义Bootstrap函数\n",
    "def bootstrap_test(sample1, sample2, num_iterations=10000):\n",
    "    np.random.seed(42)  # 设置随机种子以确保结果的可重复性\n",
    "    n1, n2 = len(sample1), len(sample2)\n",
    "    observed_difference = np.mean(sample1) - np.mean(sample2)\n",
    "\n",
    "    # 合并两个样本数据\n",
    "    combined_data = np.concatenate((sample1, sample2))\n",
    "\n",
    "    bootstrap_differences = []\n",
    "    for _ in range(num_iterations):\n",
    "        # 通过重抽样生成新的样本\n",
    "        bootstrap_sample = np.random.choice(combined_data, size=n1 + n2, replace=True)\n",
    "\n",
    "        # 计算新样本的差异\n",
    "        bootstrap_difference = np.mean(bootstrap_sample[:n1]) - np.mean(bootstrap_sample[n1:])\n",
    "        bootstrap_differences.append(bootstrap_difference)\n",
    "\n",
    "    # 计算p值\n",
    "    p_value = np.mean(np.abs(bootstrap_differences) >= np.abs(observed_difference))\n",
    "\n",
    "    return observed_difference, p_value\n",
    "\n",
    "# 执行Bootstrap检验\n",
    "observed_diff, p_value = bootstrap_test(sample1, sample2)\n",
    "\n",
    "# 打印结果\n",
    "print(f\"观察到的均值差异: {observed_diff}\")\n",
    "print(f\"p值: {p_value}\")\n"
   ],
   "metadata": {
    "collapsed": false,
    "ExecuteTime": {
     "end_time": "2024-03-02T11:24:05.060477400Z",
     "start_time": "2024-03-02T11:24:04.539500900Z"
    }
   }
  },
  {
   "cell_type": "code",
   "execution_count": 19,
   "outputs": [
    {
     "name": "stdout",
     "output_type": "stream",
     "text": [
      "Uncorrected t-statistic: 0.0\n",
      "Uncorrected p-value: 1.0\n",
      "Corrected t-statistic (Newey-West): -1259888492073682.5\n",
      "Corrected p-value (Newey-West): 0.0\n"
     ]
    },
    {
     "data": {
      "text/plain": "<Figure size 432x288 with 1 Axes>",
      "image/png": "[encoded data removed]"
     },
     "metadata": {
      "needs_background": "light"
     },
     "output_type": "display_data"
    }
   ],
   "source": [
    "\n",
    "# 绘制自相关图\n",
    "sm.graphics.tsa.plot_acf(SZPreYieldRate, lags=8)  # 指定滞后阶数\n",
    "plt.title('Autocorrelation Plot of Residuals')\n",
    "plt.show()\n",
    "\n"
   ],
   "metadata": {
    "collapsed": false,
    "ExecuteTime": {
     "end_time": "2024-02-28T04:53:19.572167100Z",
     "start_time": "2024-02-28T04:53:19.259675500Z"
    }
   }
  }
 ],
 "metadata": {
  "kernelspec": {
   "display_name": "Python 3",
   "language": "python",
   "name": "python3"
  },
  "language_info": {
   "codemirror_mode": {
    "name": "ipython",
    "version": 2
   },
   "file_extension": ".py",
   "mimetype": "text/x-python",
   "name": "python",
   "nbconvert_exporter": "python",
   "pygments_lexer": "ipython2",
   "version": "2.7.6"
  }
 },
 "nbformat": 4,
 "nbformat_minor": 0
}
