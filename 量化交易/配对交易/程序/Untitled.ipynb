{
 "cells": [
  {
   "cell_type": "code",
   "execution_count": 3,
   "id": "7765015e",
   "metadata": {
    "ExecuteTime": {
     "end_time": "2023-08-22T15:52:37.567907100Z",
     "start_time": "2023-08-22T15:52:37.515903600Z"
    }
   },
   "outputs": [],
   "source": [
    "import pandas as pd\n",
    "import numpy as np\n",
    "\n",
    "hk=pd.read_csv('AInfoHuToHK.csv')"
   ]
  },
  {
   "cell_type": "code",
   "execution_count": 10,
   "id": "2a7a7555",
   "metadata": {
    "scrolled": true,
    "ExecuteTime": {
     "end_time": "2023-08-22T15:54:07.306581400Z",
     "start_time": "2023-08-22T15:54:07.231576100Z"
    }
   },
   "outputs": [
    {
     "name": "stdout",
     "output_type": "stream",
     "text": [
      "0      600011\n",
      "1      600012\n",
      "2      600016\n",
      "3      600026\n",
      "4      600027\n",
      "        ...  \n",
      "112    688339\n",
      "113    688366\n",
      "114    688385\n",
      "115    688505\n",
      "116    688981\n",
      "Name: Stkcd, Length: 117, dtype: int64\n"
     ]
    }
   ],
   "source": [
    "print(hk[\"Stkcd\"])"
   ]
  },
  {
   "cell_type": "code",
   "execution_count": 4,
   "id": "736f2ac9",
   "metadata": {},
   "outputs": [],
   "source": [
    "HuAndShen=pd.read_csv('HuAndShen.csv')"
   ]
  },
  {
   "cell_type": "code",
   "execution_count": null,
   "id": "764ba593",
   "metadata": {},
   "outputs": [],
   "source": []
  }
 ],
 "metadata": {
  "kernelspec": {
   "display_name": "Python 3 (ipykernel)",
   "language": "python",
   "name": "python3"
  },
  "language_info": {
   "codemirror_mode": {
    "name": "ipython",
    "version": 3
   },
   "file_extension": ".py",
   "mimetype": "text/x-python",
   "name": "python",
   "nbconvert_exporter": "python",
   "pygments_lexer": "ipython3",
   "version": "3.9.6"
  }
 },
 "nbformat": 4,
 "nbformat_minor": 5
}
