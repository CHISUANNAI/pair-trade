{
 "cells": [
  {
   "cell_type": "code",
   "execution_count": 2,
   "metadata": {
    "collapsed": true,
    "ExecuteTime": {
     "end_time": "2024-03-05T08:07:16.273277100Z",
     "start_time": "2024-03-05T08:07:16.175269800Z"
    }
   },
   "outputs": [
    {
     "name": "stderr",
     "output_type": "stream",
     "text": [
      "C:\\Users\\ASUS\\AppData\\Local\\Temp\\ipykernel_17196\\2688340491.py:57: FutureWarning: The behavior of DataFrame concatenation with empty or all-NA entries is deprecated. In a future version, this will no longer exclude empty or all-NA columns when determining the result dtypes. To retain the old behavior, exclude the relevant entries before the concat operation.\n",
      "  results_df = pd.concat([results_df, pd.DataFrame(result_row, index=[0])], ignore_index=True)\n"
     ]
    }
   ],
   "source": [
    "import numpy as np\n",
    "from scipy.stats import f_oneway, ttest_ind\n",
    "import pandas as pd\n",
    "\n",
    "road = r'F:\\热爱学习\\jupyter\\显著性检验\\副本离体成像.xlsx'\n",
    "file = pd.read_excel(road)\n",
    "\n",
    "def FAndTTest(n1, n2):\n",
    "    # 首先进行F检验（方差齐性检验）\n",
    "    f_statistic, Fp_value = f_oneway(n1, n2)\n",
    "    # 如果P值小于显著性水平（例如0.05），则拒绝原假设，认为两总体方差不相等\n",
    "    if Fp_value < 0.05:\n",
    "        t_statistic, Tp_value = ttest_ind(n1, n2, equal_var=True)  # 如果方差不等，应设置equal_var=False\n",
    "        # print('方差无差异')\n",
    "        # # 对于T检验，如果P值小于显著性水平（例如0.05），则拒绝原假设，认为两总体均值无显著差异\n",
    "        # if Tp_value < 0.05:\n",
    "        #     print(\"两样本有差异,P值为：\",Tp_value)\n",
    "        # else:\n",
    "        #     print(\"两样本无差异,P值为：\",Tp_value)\n",
    "        # print('*'*100)\n",
    "        return [t_statistic, Tp_value]\n",
    "    else:\n",
    "        t_statistic, Tp_value = ttest_ind(n1, n2, equal_var=False)  # 如果方差不等，应设置equal_var=False\n",
    "        # print('方差有差异')\n",
    "        # # 对于T检验，如果P值小于显著性水平（例如0.05），则拒绝原假设，认为两总体均值无显著差异\n",
    "        # if Tp_value < 0.05:\n",
    "        #     print(\"两样本有差异,P值为：\",Tp_value)\n",
    "        # else:\n",
    "        #     print(\"两样本无差异,P值为：\",Tp_value)\n",
    "        # print('*'*100)\n",
    "        return [t_statistic, Tp_value]\n",
    "\n",
    "columns = file.columns.tolist()\n",
    "results_df = pd.DataFrame(columns=['pair', 'TStatistic', 'PValue_T', 'significance'])\n",
    "for i in range(len(columns)):\n",
    "    for j in range(i + 1, len(columns)):\n",
    "        n1 = file[columns[i]]\n",
    "        n2 = file[columns[j]]\n",
    "        pair = '(' + str(i + 1) + ',' + str(j + 1) + ')'\n",
    "        results = FAndTTest(n1, n2)\n",
    "        TStatistic = results[0]\n",
    "        PValue_T = results[1]\n",
    "        if PValue_T < 0.0001:\n",
    "            significance = '****'\n",
    "        elif PValue_T < 0.001:\n",
    "            significance = '***'\n",
    "        elif PValue_T < 0.01:\n",
    "            significance = '**'\n",
    "        elif PValue_T < 0.05:\n",
    "            significance = '*'\n",
    "        else:\n",
    "            significance = 'NA'\n",
    "        result_row = {'pair': pair,\n",
    "                      'TStatistic': results[0],\n",
    "                      'PValue_T': results[1],\n",
    "                      'significance': significance}\n",
    "        results_df = pd.concat([results_df, pd.DataFrame(result_row, index=[0])], ignore_index=True)\n",
    "result_name=road[22:len(road)-5]\n",
    "results_df.to_csv(result_name+'.csv')\n",
    "# FAndTTest(sample1,sample2)\n",
    "\n"
   ]
  }
 ],
 "metadata": {
  "kernelspec": {
   "display_name": "Python 3",
   "language": "python",
   "name": "python3"
  },
  "language_info": {
   "codemirror_mode": {
    "name": "ipython",
    "version": 2
   },
   "file_extension": ".py",
   "mimetype": "text/x-python",
   "name": "python",
   "nbconvert_exporter": "python",
   "pygments_lexer": "ipython2",
   "version": "2.7.6"
  }
 },
 "nbformat": 4,
 "nbformat_minor": 0
}
