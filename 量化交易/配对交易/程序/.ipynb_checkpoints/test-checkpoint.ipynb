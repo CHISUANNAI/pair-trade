{
 "cells": [
  {
   "cell_type": "code",
   "execution_count": 3,
   "id": "5bb970c9",
   "metadata": {},
   "outputs": [],
   "source": [
    "import pandas as pd\n",
    "import numpy as np"
   ]
  },
  {
   "cell_type": "code",
   "execution_count": 4,
   "id": "0635180e",
   "metadata": {},
   "outputs": [],
   "source": [
    "HuToHK=pd.read_csv('HuToHK.csv',encoding='utf_8_sig')\n",
    "HuToHKInfo=pd.read_csv('HuToHKInfo.csv',encoding='utf_8_sig')\n",
    "ShenToHK=pd.read_csv('ShenToHK.csv',encoding='utf_8_sig')\n",
    "ShenToHKInfo=pd.read_csv('ShenToHKInfo.csv',encoding='utf_8_sig')"
   ]
  },
  {
   "cell_type": "code",
   "execution_count": 5,
   "id": "464d85d3",
   "metadata": {},
   "outputs": [],
   "source": [
    "#将同时在两地的沪港通数据筛出\n",
    "li=[]\n",
    "for row_index, row in HuToHKInfo.iterrows():\n",
    "    a=row[\"Symbol\"]\n",
    "    temp=HuToHK[HuToHK.Symbol==a]\n",
    "    li.append(temp)\n",
    "df=pd.concat(li)\n",
    "df.to_csv('BothInHuToHK.csv',encoding='utf_8_sig')"
   ]
  },
  {
   "cell_type": "code",
   "execution_count": 5,
   "id": "c543775f",
   "metadata": {},
   "outputs": [
    {
     "name": "stdout",
     "output_type": "stream",
     "text": [
      "running\n"
     ]
    }
   ],
   "source": [
    "#将同时在两地的深港通数据筛出\n",
    "print('running')\n",
    "li=[]\n",
    "for row_index, row in ShenToHKInfo.iterrows():\n",
    "    a=row[\"Symbol\"]\n",
    "    temp=ShenToHK[ShenToHK.Symbol==a]\n",
    "    li.append(temp)\n",
    "df=pd.concat(li)\n",
    "df.to_csv('BothInShenToHK.csv',encoding='utf_8_sig')"
   ]
  },
  {
   "cell_type": "code",
   "execution_count": null,
   "id": "3023cf0f",
   "metadata": {},
   "outputs": [],
   "source": []
  }
 ],
 "metadata": {
  "kernelspec": {
   "display_name": "Python 3 (ipykernel)",
   "language": "python",
   "name": "python3"
  },
  "language_info": {
   "codemirror_mode": {
    "name": "ipython",
    "version": 3
   },
   "file_extension": ".py",
   "mimetype": "text/x-python",
   "name": "python",
   "nbconvert_exporter": "python",
   "pygments_lexer": "ipython3",
   "version": "3.9.6"
  }
 },
 "nbformat": 4,
 "nbformat_minor": 5
}
