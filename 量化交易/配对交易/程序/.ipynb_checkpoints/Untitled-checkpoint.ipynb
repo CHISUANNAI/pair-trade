{
 "cells": [
  {
   "cell_type": "code",
   "execution_count": 1,
   "id": "7765015e",
   "metadata": {},
   "outputs": [],
   "source": [
    "import pandas as pd\n",
    "import numpy as np\n",
    "\n",
    "hk=pd.read_csv('hk.csv')\n",
    "HuAndShen=pd.read_csv('HuAndShen.csv')\n",
    "HuToHKAndShenToHK=pd.read_csv('HuToHKAndShenToHK.csv')"
   ]
  },
  {
   "cell_type": "code",
   "execution_count": 3,
   "id": "2a7a7555",
   "metadata": {
    "scrolled": true
   },
   "outputs": [],
   "source": [
    "HuToHK=pd.read_csv('HuToHK.csv')\n",
    "ShenToHK=pd.read_csv('ShenToHK.csv')"
   ]
  },
  {
   "cell_type": "code",
   "execution_count": 4,
   "id": "736f2ac9",
   "metadata": {},
   "outputs": [],
   "source": [
    "HuAndShen=pd.read_csv('HuAndShen.csv')"
   ]
  },
  {
   "cell_type": "code",
   "execution_count": null,
   "id": "764ba593",
   "metadata": {},
   "outputs": [],
   "source": []
  }
 ],
 "metadata": {
  "kernelspec": {
   "display_name": "Python 3 (ipykernel)",
   "language": "python",
   "name": "python3"
  },
  "language_info": {
   "codemirror_mode": {
    "name": "ipython",
    "version": 3
   },
   "file_extension": ".py",
   "mimetype": "text/x-python",
   "name": "python",
   "nbconvert_exporter": "python",
   "pygments_lexer": "ipython3",
   "version": "3.9.6"
  }
 },
 "nbformat": 4,
 "nbformat_minor": 5
}
